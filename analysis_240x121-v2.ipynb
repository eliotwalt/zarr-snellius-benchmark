{
 "cells": [
  {
   "cell_type": "code",
   "execution_count": null,
   "id": "d6310ef7",
   "metadata": {},
   "outputs": [],
   "source": [
    "import numpy as np\n",
    "import yaml\n",
    "import os\n",
    "import matplotlib.pyplot as plt"
   ]
  },
  {
   "cell_type": "code",
   "execution_count": 2,
   "id": "18bbf5d8",
   "metadata": {},
   "outputs": [],
   "source": [
    "experiment_dirs = {\n",
    "    \"2020-2022\": \"experiments/20250513T161151\",\n",
    "    \"2015-2022\": \"experiments/20250513T161154\",\n",
    "    \"2005-2022\": \"experiments/20250513T161024\",\n",
    "    \"gcs\": \"experiments/20250513T161533\",\n",
    "}"
   ]
  },
  {
   "cell_type": "code",
   "execution_count": 3,
   "id": "c10a2b4f",
   "metadata": {},
   "outputs": [],
   "source": [
    "# get all times\n",
    "experiment_times = {}\n",
    "for experiment, experiment_dir in experiment_dirs.items():\n",
    "    times_file = os.path.join(experiment_dir, \"times_summary.yaml\")\n",
    "    with open(times_file, \"r\") as f:\n",
    "        times = yaml.safe_load(f)[\"times\"]\n",
    "    experiment_times[experiment] = times"
   ]
  },
  {
   "cell_type": "code",
   "execution_count": 6,
   "id": "10fa2c99",
   "metadata": {},
   "outputs": [
    {
     "data": {
      "text/plain": [
       "{'batch_size': {'2020-2022': 5, '2015-2022': 5, '2005-2022': 5, 'gcs': 5},\n",
       " 'chunks': {'2020-2022': 'auto',\n",
       "  '2015-2022': 'auto',\n",
       "  '2005-2022': 'auto',\n",
       "  'gcs': 'auto'},\n",
       " 'dask_scheduler': {'2020-2022': None,\n",
       "  '2015-2022': None,\n",
       "  '2005-2022': None,\n",
       "  'gcs': None},\n",
       " 'dask_threads_per_worker': {'2020-2022': 1,\n",
       "  '2015-2022': 1,\n",
       "  '2005-2022': 1,\n",
       "  'gcs': 1},\n",
       " 'dask_workers': {'2020-2022': 1, '2015-2022': 1, '2005-2022': 1, 'gcs': 1},\n",
       " 'dataset': {'2020-2022': 'data/era5_weekly_aurora_2020-2022-wb13-1h-240x121.zarr-v3/',\n",
       "  '2015-2022': 'data/era5_weekly_aurora_2015-2022-wb13-1h-240x121.zarr-v3/',\n",
       "  '2005-2022': 'data/era5_weekly_aurora_2005-2022-wb13-1h-240x121.zarr-v3/',\n",
       "  'gcs': 'gs://weatherbench2/datasets/era5_weekly/1959-2023_01_10-1h-240x121_equiangular_with_poles_conservative.zarr/'},\n",
       " 'date_range': {'2020-2022': ['2020-01-01', '2022-12-31'],\n",
       "  '2015-2022': ['2020-01-01', '2022-12-31'],\n",
       "  '2005-2022': ['2020-01-01', '2022-12-31'],\n",
       "  'gcs': ['2020-01-01', '2022-12-31']},\n",
       " 'levels': {'2020-2022': [50,\n",
       "   100,\n",
       "   150,\n",
       "   200,\n",
       "   250,\n",
       "   300,\n",
       "   400,\n",
       "   500,\n",
       "   600,\n",
       "   700,\n",
       "   850,\n",
       "   925,\n",
       "   1000],\n",
       "  '2015-2022': [50,\n",
       "   100,\n",
       "   150,\n",
       "   200,\n",
       "   250,\n",
       "   300,\n",
       "   400,\n",
       "   500,\n",
       "   600,\n",
       "   700,\n",
       "   850,\n",
       "   925,\n",
       "   1000],\n",
       "  '2005-2022': [50,\n",
       "   100,\n",
       "   150,\n",
       "   200,\n",
       "   250,\n",
       "   300,\n",
       "   400,\n",
       "   500,\n",
       "   600,\n",
       "   700,\n",
       "   850,\n",
       "   925,\n",
       "   1000],\n",
       "  'gcs': [50, 100, 150, 200, 250, 300, 400, 500, 600, 700, 850, 925, 1000]},\n",
       " 'log_frequency': {'2020-2022': 10,\n",
       "  '2015-2022': 10,\n",
       "  '2005-2022': 10,\n",
       "  'gcs': 10},\n",
       " 'num_input_timesteps': {'2020-2022': 2,\n",
       "  '2015-2022': 2,\n",
       "  '2005-2022': 2,\n",
       "  'gcs': 2},\n",
       " 'num_output_timesteps': {'2020-2022': 1,\n",
       "  '2015-2022': 1,\n",
       "  '2005-2022': 1,\n",
       "  'gcs': 1},\n",
       " 'num_samples': {'2020-2022': 20, '2015-2022': 20, '2005-2022': 20, 'gcs': 20},\n",
       " 'persistent_workers': {'2020-2022': False,\n",
       "  '2015-2022': False,\n",
       "  '2005-2022': False,\n",
       "  'gcs': False},\n",
       " 'pin_memory': {'2020-2022': False,\n",
       "  '2015-2022': False,\n",
       "  '2005-2022': False,\n",
       "  'gcs': False},\n",
       " 'pt_workers': {'2020-2022': 0, '2015-2022': 0, '2005-2022': 0, 'gcs': 0},\n",
       " 'shuffle': {'2020-2022': False,\n",
       "  '2015-2022': False,\n",
       "  '2005-2022': False,\n",
       "  'gcs': False},\n",
       " 'variables': {'2020-2022': ['2m_temperature',\n",
       "   'mean_sea_level_pressure',\n",
       "   '10m_u_component_of_wind',\n",
       "   '10m_v_component_of_wind',\n",
       "   'temperature',\n",
       "   'specific_humidity',\n",
       "   'u_component_of_wind',\n",
       "   'v_component_of_wind',\n",
       "   'geopotential'],\n",
       "  '2015-2022': ['2m_temperature',\n",
       "   'mean_sea_level_pressure',\n",
       "   '10m_u_component_of_wind',\n",
       "   '10m_v_component_of_wind',\n",
       "   'temperature',\n",
       "   'specific_humidity',\n",
       "   'u_component_of_wind',\n",
       "   'v_component_of_wind',\n",
       "   'geopotential'],\n",
       "  '2005-2022': ['2m_temperature',\n",
       "   'mean_sea_level_pressure',\n",
       "   '10m_u_component_of_wind',\n",
       "   '10m_v_component_of_wind',\n",
       "   'temperature',\n",
       "   'specific_humidity',\n",
       "   'u_component_of_wind',\n",
       "   'v_component_of_wind',\n",
       "   'geopotential'],\n",
       "  'gcs': ['2m_temperature',\n",
       "   'mean_sea_level_pressure',\n",
       "   '10m_u_component_of_wind',\n",
       "   '10m_v_component_of_wind',\n",
       "   'temperature',\n",
       "   'specific_humidity',\n",
       "   'u_component_of_wind',\n",
       "   'v_component_of_wind',\n",
       "   'geopotential']}}"
      ]
     },
     "execution_count": 6,
     "metadata": {},
     "output_type": "execute_result"
    }
   ],
   "source": [
    "combined_args = {}\n",
    "for experiment, experiment_dir in experiment_dirs.items():\n",
    "    args_file = os.path.join(experiment_dir, \"args.yaml\")\n",
    "    with open(args_file, \"r\") as f:\n",
    "        args = yaml.safe_load(f)\n",
    "    for args_key, args_value in args.items():\n",
    "        if args_key not in combined_args:\n",
    "            combined_args[args_key] = {}\n",
    "        combined_args[args_key][experiment] = args_value\n",
    "combined_args"
   ]
  },
  {
   "cell_type": "code",
   "execution_count": 4,
   "id": "5e087ca9",
   "metadata": {},
   "outputs": [
    {
     "name": "stderr",
     "output_type": "stream",
     "text": [
      "/tmp/ipykernel_2965896/2707932323.py:4: MatplotlibDeprecationWarning: The 'labels' parameter of boxplot() has been renamed 'tick_labels' since Matplotlib 3.9; support for the old name will be dropped in 3.11.\n",
      "  bplot = axs[0].boxplot(\n",
      "/tmp/ipykernel_2965896/2707932323.py:10: MatplotlibDeprecationWarning: The 'labels' parameter of boxplot() has been renamed 'tick_labels' since Matplotlib 3.9; support for the old name will be dropped in 3.11.\n",
      "  bplot = axs[1].boxplot(\n"
     ]
    },
    {
     "data": {
      "image/png": "[encoded data removed]",
      "text/plain": [
       "<Figure size 800x400 with 2 Axes>"
      ]
     },
     "metadata": {},
     "output_type": "display_data"
    }
   ],
   "source": [
    "fig, axs = plt.subplots(ncols=2, nrows=1, figsize=(8, 4))\n",
    "axs[0].set_ylabel(\"Batch loading time (s)\")\n",
    "\n",
    "bplot = axs[0].boxplot(\n",
    "    [experiment_times[experiment] for experiment in experiment_times.keys()],\n",
    "    labels=experiment_times.keys(),\n",
    "    showfliers=False,\n",
    "    patch_artist=True,\n",
    ")\n",
    "bplot = axs[1].boxplot(\n",
    "    [experiment_times[experiment] for experiment in experiment_times.keys() if experiment != \"gcs\"],\n",
    "    labels=[experiment for experiment in experiment_times.keys() if experiment != \"gcs\"],\n",
    "    showfliers=False,\n",
    "    patch_artist=True,\n",
    ")"
   ]
  },
  {
   "cell_type": "code",
   "execution_count": 5,
   "id": "05929699",
   "metadata": {},
   "outputs": [
    {
     "name": "stdout",
     "output_type": "stream",
     "text": [
      "2020-2022: 0.39 ± 0.12 s\n",
      "2015-2022: 0.47 ± 0.06 s\n",
      "2005-2022: 0.62 ± 0.09 s\n",
      "gcs: 44.47 ± 3.21 s\n"
     ]
    }
   ],
   "source": [
    "for experiment, times in experiment_times.items():\n",
    "    mean = np.mean(times)\n",
    "    std = np.std(times)\n",
    "    print(f\"{experiment}: {mean:.2f} ± {std:.2f} s\")"
   ]
  },
  {
   "cell_type": "code",
   "execution_count": null,
   "id": "22703fd8",
   "metadata": {},
   "outputs": [],
   "source": []
  }
 ],
 "metadata": {
  "kernelspec": {
   "display_name": "Python 3",
   "language": "python",
   "name": "python3"
  },
  "language_info": {
   "codemirror_mode": {
    "name": "ipython",
    "version": 3
   },
   "file_extension": ".py",
   "mimetype": "text/x-python",
   "name": "python",
   "nbconvert_exporter": "python",
   "pygments_lexer": "ipython3",
   "version": "3.11.7"
  }
 },
 "nbformat": 4,
 "nbformat_minor": 5
}
